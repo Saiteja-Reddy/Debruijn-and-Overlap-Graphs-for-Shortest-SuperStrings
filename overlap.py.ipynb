{
 "cells": [
  {
   "cell_type": "code",
   "execution_count": 85,
   "metadata": {
    "collapsed": true
   },
   "outputs": [],
   "source": [
    "def overlap(a,b, min_length = 1):\n",
    "    start = 0\n",
    "    while True:\n",
    "        start = a.find(b[:min_length], start)\n",
    "        if(start == -1):\n",
    "            return 0\n",
    "        if b.startswith(a[start:]):\n",
    "            return len(a) - start\n",
    "        start += 1"
   ]
  },
  {
   "cell_type": "code",
   "execution_count": 86,
   "metadata": {},
   "outputs": [],
   "source": [
    "from itertools import permutations\n",
    "from graphviz import Digraph\n",
    "\n",
    "def get_merged_node_maximal_overlap(reads, step):\n",
    "    dot = Digraph(format=\"pdf\")\n",
    "    \n",
    "    graph = []\n",
    "    for _ in reads:\n",
    "        graph.append([])\n",
    "\n",
    "    for i,a in enumerate(reads):\n",
    "        for b in reads:\n",
    "            graph[i].append(overlap(a,b))        \n",
    "    \n",
    "    for i,read in enumerate(reads):\n",
    "        dot.node(read, read)\n",
    "    for i,a in enumerate(reads):\n",
    "        for j,b in enumerate(reads):\n",
    "            if(i is not j and graph[i][j] is not 0):\n",
    "                dot.edge(a,b, label=str(graph[i][j]))\n",
    "                \n",
    "    dot.render('overlap-output/step-' + str(step), cleanup=True)                  \n",
    "\n",
    "    read_a = None; read_b = None;\n",
    "    overlap_len = 0\n",
    "    for a,b in permutations(reads, 2):\n",
    "        o_len = overlap(a,b)\n",
    "        if(o_len > overlap_len):\n",
    "            overlap_len = o_len\n",
    "            read_a, read_b = a,b\n",
    "    return read_a, read_b, overlap_len"
   ]
  },
  {
   "cell_type": "code",
   "execution_count": 87,
   "metadata": {
    "collapsed": true
   },
   "outputs": [],
   "source": [
    "def overlap_reads(reads):\n",
    "    reads = sorted(reads)\n",
    "    step = 1\n",
    "    reada, readb , overlap = get_merged_node_maximal_overlap(reads, step)\n",
    "    while overlap > 0:\n",
    "        reads.remove(reada)\n",
    "        reads.remove(readb)        \n",
    "        reads.append((reada + readb[overlap:]))\n",
    "        step += 1\n",
    "        reada, readb , overlap = get_merged_node_maximal_overlap(reads,step)\n",
    "    return ''.join(reads)"
   ]
  },
  {
   "cell_type": "code",
   "execution_count": 88,
   "metadata": {},
   "outputs": [
    {
     "data": {
      "text/plain": [
       "'abcda'"
      ]
     },
     "execution_count": 88,
     "metadata": {},
     "output_type": "execute_result"
    }
   ],
   "source": [
    "overlap_reads([\"abcd\",\"bcda\",\"bcd\"])"
   ]
  }
 ],
 "metadata": {
  "kernelspec": {
   "display_name": "Python 3",
   "language": "python",
   "name": "python3"
  },
  "language_info": {
   "codemirror_mode": {
    "name": "ipython",
    "version": 3
   },
   "file_extension": ".py",
   "mimetype": "text/x-python",
   "name": "python",
   "nbconvert_exporter": "python",
   "pygments_lexer": "ipython3",
   "version": "3.6.3"
  }
 },
 "nbformat": 4,
 "nbformat_minor": 2
}
