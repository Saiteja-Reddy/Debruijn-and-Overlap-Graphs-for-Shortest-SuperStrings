{
 "cells": [
  {
   "cell_type": "code",
   "execution_count": 151,
   "metadata": {},
   "outputs": [],
   "source": [
    "strings = [\"atgc\", \"atgg\", \"gatcc\",\"agtcc\",\"atgcc\"]\n",
    "\n",
    "def overlap(a,b, min_length = 1):\n",
    "    start = 0\n",
    "    while True:\n",
    "        start = a.find(b[:min_length], start)\n",
    "        if(start == -1):\n",
    "            return 0\n",
    "        if b.startswith(a[start:]):\n",
    "            return len(a) - start\n",
    "        start += 1"
   ]
  },
  {
   "cell_type": "code",
   "execution_count": 152,
   "metadata": {},
   "outputs": [],
   "source": [
    "graph = []\n",
    "for _ in strings:\n",
    "    graph.append([])"
   ]
  },
  {
   "cell_type": "code",
   "execution_count": 153,
   "metadata": {},
   "outputs": [],
   "source": [
    "for i,a in enumerate(strings):\n",
    "    for b in strings:\n",
    "        graph[i].append(overlap(a,b))"
   ]
  },
  {
   "cell_type": "code",
   "execution_count": 154,
   "metadata": {},
   "outputs": [
    {
     "data": {
      "text/plain": [
       "[[4, 0, 0, 0, 4],\n",
       " [0, 4, 1, 0, 0],\n",
       " [0, 0, 5, 0, 0],\n",
       " [0, 0, 0, 5, 0],\n",
       " [0, 0, 0, 0, 5]]"
      ]
     },
     "execution_count": 154,
     "metadata": {},
     "output_type": "execute_result"
    }
   ],
   "source": [
    "graph"
   ]
  },
  {
   "cell_type": "code",
   "execution_count": 155,
   "metadata": {},
   "outputs": [],
   "source": [
    "from itertools import permutations\n",
    "\n",
    "def get_merged_node_maximal_overlap(reads):\n",
    "    read_a = None; read_b = None;\n",
    "    overlap_len = 0\n",
    "    for a,b in permutations(reads, 2):\n",
    "        o_len = overlap(a,b)\n",
    "        if(o_len > overlap_len):\n",
    "            overlap_len = o_len\n",
    "            read_a, read_b = a,b\n",
    "    return read_a, read_b, overlap_len"
   ]
  },
  {
   "cell_type": "code",
   "execution_count": 156,
   "metadata": {
    "collapsed": true
   },
   "outputs": [],
   "source": [
    "def overlap_reads(reads):\n",
    "    reads = sorted(reads)\n",
    "    reada, readb , overlap = get_merged_node_maximal_overlap(reads)\n",
    "    while overlap > 0:\n",
    "        reads.remove(reada)\n",
    "        reads.remove(readb)        \n",
    "        reads.append((reada + readb[overlap:]))\n",
    "        reada, readb , overlap = get_merged_node_maximal_overlap(reads)\n",
    "    return ''.join(reads)"
   ]
  },
  {
   "cell_type": "code",
   "execution_count": 157,
   "metadata": {},
   "outputs": [
    {
     "data": {
      "text/plain": [
       "'abcda'"
      ]
     },
     "execution_count": 157,
     "metadata": {},
     "output_type": "execute_result"
    }
   ],
   "source": [
    "overlap_reads([\"abcd\",\"bcda\",\"bcd\"])"
   ]
  },
  {
   "cell_type": "code",
   "execution_count": 158,
   "metadata": {},
   "outputs": [
    {
     "data": {
      "text/plain": [
       "'GTACGTACGAT'"
      ]
     },
     "execution_count": 158,
     "metadata": {},
     "output_type": "execute_result"
    }
   ],
   "source": [
    "overlap_reads([\"GTACGT\", \"TACGTA\", \"ACGTAC\", \"CGTACG\", \"GTACGA\", \"TACGAT\"])"
   ]
  },
  {
   "cell_type": "code",
   "execution_count": 159,
   "metadata": {},
   "outputs": [
    {
     "ename": "ModuleNotFoundError",
     "evalue": "No module named 'graphviz'",
     "output_type": "error",
     "traceback": [
      "\u001b[0;31m---------------------------------------------------------------------------\u001b[0m",
      "\u001b[0;31mModuleNotFoundError\u001b[0m                       Traceback (most recent call last)",
      "\u001b[0;32m<ipython-input-159-fa41104c51ff>\u001b[0m in \u001b[0;36m<module>\u001b[0;34m()\u001b[0m\n\u001b[0;32m----> 1\u001b[0;31m \u001b[0;32mfrom\u001b[0m \u001b[0mgraphviz\u001b[0m \u001b[0;32mimport\u001b[0m \u001b[0mDigraph\u001b[0m\u001b[0;34m\u001b[0m\u001b[0m\n\u001b[0m",
      "\u001b[0;31mModuleNotFoundError\u001b[0m: No module named 'graphviz'"
     ]
    }
   ],
   "source": [
    "from graphviz import Digraph"
   ]
  }
 ],
 "metadata": {
  "kernelspec": {
   "display_name": "Python 3",
   "language": "python",
   "name": "python3"
  },
  "language_info": {
   "codemirror_mode": {
    "name": "ipython",
    "version": 3
   },
   "file_extension": ".py",
   "mimetype": "text/x-python",
   "name": "python",
   "nbconvert_exporter": "python",
   "pygments_lexer": "ipython3",
   "version": "3.6.3"
  }
 },
 "nbformat": 4,
 "nbformat_minor": 2
}
